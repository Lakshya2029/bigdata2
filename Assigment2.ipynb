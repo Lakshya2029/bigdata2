{
  "nbformat": 4,
  "nbformat_minor": 0,
  "metadata": {
    "colab": {
      "provenance": [],
      "authorship_tag": "ABX9TyMLpgntDPT/kykWwT6dUpXh",
      "include_colab_link": true
    },
    "kernelspec": {
      "name": "python3",
      "display_name": "Python 3"
    },
    "language_info": {
      "name": "python"
    }
  },
  "cells": [
    {
      "cell_type": "markdown",
      "metadata": {
        "id": "view-in-github",
        "colab_type": "text"
      },
      "source": [
        "<a href=\"https://colab.research.google.com/github/Lakshya2029/bigdata2/blob/main/asss2.ipynb\" target=\"_parent\"><img src=\"https://colab.research.google.com/assets/colab-badge.svg\" alt=\"Open In Colab\"/></a>"
      ]
    },
    {
      "cell_type": "code",
      "execution_count": 2,
      "metadata": {
        "colab": {
          "base_uri": "https://localhost:8080/"
        },
        "id": "yR_-7wVchlVm",
        "outputId": "e095ed0f-6207-4236-9303-30308937f062"
      },
      "outputs": [
        {
          "output_type": "stream",
          "name": "stdout",
          "text": [
            "[5 4 6 3 2 1]\n"
          ]
        }
      ],
      "source": [
        "import numpy as np\n",
        "a=np.array([1,2,3,6,4,5])\n",
        "print(np.flip(a))"
      ]
    },
    {
      "cell_type": "code",
      "source": [
        "b=np.array([[1,2],[3,4]])\n",
        "c=np.array([[1,2],[3,4]])\n",
        "print(b==c)"
      ],
      "metadata": {
        "colab": {
          "base_uri": "https://localhost:8080/"
        },
        "id": "4eVNXvqwmBR7",
        "outputId": "a7dcda30-3107-48ad-84f9-b4d8c91afb71"
      },
      "execution_count": 3,
      "outputs": [
        {
          "output_type": "stream",
          "name": "stdout",
          "text": [
            "[[ True  True]\n",
            " [ True  True]]\n"
          ]
        }
      ]
    },
    {
      "cell_type": "code",
      "source": [
        "x = np.array([1,2,3,4,5,1,2,1,1,1])\n",
        "y = np.array([1,1,1, 2, 3, 4, 2, 4, 3, 3])\n",
        "print(f\"The most frequent value in  first array is : {np.bincount(x).argmax()}\")\n",
        "print(f\"The index of most frequent values of first array are {np.where(x==(np.bincount(x).argmax()))}\")\n",
        "print(f\"The most frequent value in  second array is : {np.bincount(y).argmax()}\")\n",
        "print(f\"The index of most frequent values of second array are {np.where(y==(np.bincount(y).argmax()))}\")"
      ],
      "metadata": {
        "colab": {
          "base_uri": "https://localhost:8080/"
        },
        "id": "5V9j-wd5nozO",
        "outputId": "59fb7bb4-08e8-4bc3-b003-d95ff8764f89"
      },
      "execution_count": 4,
      "outputs": [
        {
          "output_type": "stream",
          "name": "stdout",
          "text": [
            "The most frequent value in  first array is : 1\n",
            "The index of most frequent values of first array are (array([0, 5, 7, 8, 9]),)\n",
            "The most frequent value in  second array is : 1\n",
            "The index of most frequent values of second array are (array([0, 1, 2]),)\n"
          ]
        }
      ]
    },
    {
      "cell_type": "code",
      "source": [
        "x = np.matrix(\"[4, 1, 9; 12, 3, 1; 4, 5, 6]\")\n",
        "print(x)\n",
        "print(f\"The sum of matrix is {np.sum(x)}\")\n",
        "print(f\"The sum of all rows are {x.sum(axis=1)}\")\n",
        "print(f\"The sum of all columns  are {x.sum(axis=0)}\")\n",
        ""
      ],
      "metadata": {
        "colab": {
          "base_uri": "https://localhost:8080/"
        },
        "id": "y623BS3MnvlZ",
        "outputId": "ea7abe1d-457d-4356-9d89-d3744c0534a8"
      },
      "execution_count": 5,
      "outputs": [
        {
          "output_type": "stream",
          "name": "stdout",
          "text": [
            "[[ 4  1  9]\n",
            " [12  3  1]\n",
            " [ 4  5  6]]\n",
            "The sum of matrix is 45\n",
            "The sum of all rows are [[14]\n",
            " [16]\n",
            " [15]]\n",
            "The sum of all columns  are [[20  9 16]]\n"
          ]
        }
      ]
    }
  ]
}
